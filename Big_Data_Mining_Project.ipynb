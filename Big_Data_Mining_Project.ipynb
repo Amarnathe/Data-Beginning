{
  "nbformat": 4,
  "nbformat_minor": 0,
  "metadata": {
    "colab": {
      "name": "Big_Data_Mining_Project.ipynb",
      "provenance": [],
      "collapsed_sections": []
    },
    "kernelspec": {
      "display_name": "Python 3",
      "name": "python3"
    },
    "language_info": {
      "name": "python"
    }
  },
  "cells": [
    {
      "cell_type": "code",
      "metadata": {
        "id": "jnR1MWOv-917"
      },
      "source": [
        "import numpy as np\n",
        "import pandas as pd\n",
        "\n",
        "import matplotlib.pyplot as plt"
      ],
      "execution_count": null,
      "outputs": []
    },
    {
      "cell_type": "markdown",
      "metadata": {
        "id": "hIveknqDtsDj"
      },
      "source": [
        "# Cleaning"
      ]
    },
    {
      "cell_type": "code",
      "metadata": {
        "colab": {
          "base_uri": "https://localhost:8080/",
          "height": 469
        },
        "id": "TN078v1q-NTu",
        "outputId": "ce92b24a-8bec-4b0a-dace-48f18e698288"
      },
      "source": [
        "df = pd.read_csv('/content/Ask-A-Manager-Salary-Survey-2021-Responses-Form-Responses-1.csv')\n",
        "print(df.shape)\n",
        "df.head()"
      ],
      "execution_count": null,
      "outputs": [
        {
          "output_type": "stream",
          "name": "stdout",
          "text": [
            "(27508, 18)\n"
          ]
        },
        {
          "output_type": "execute_result",
          "data": {
            "text/html": [
              "<div>\n",
              "<style scoped>\n",
              "    .dataframe tbody tr th:only-of-type {\n",
              "        vertical-align: middle;\n",
              "    }\n",
              "\n",
              "    .dataframe tbody tr th {\n",
              "        vertical-align: top;\n",
              "    }\n",
              "\n",
              "    .dataframe thead th {\n",
              "        text-align: right;\n",
              "    }\n",
              "</style>\n",
              "<table border=\"1\" class=\"dataframe\">\n",
              "  <thead>\n",
              "    <tr style=\"text-align: right;\">\n",
              "      <th></th>\n",
              "      <th>Timestamp</th>\n",
              "      <th>How old are you?</th>\n",
              "      <th>Industry</th>\n",
              "      <th>Job title</th>\n",
              "      <th>Additional context on job title</th>\n",
              "      <th>Annual salary</th>\n",
              "      <th>Other monetary comp</th>\n",
              "      <th>Currency</th>\n",
              "      <th>Currency - other</th>\n",
              "      <th>Additional context on income</th>\n",
              "      <th>Country</th>\n",
              "      <th>State</th>\n",
              "      <th>City</th>\n",
              "      <th>Overall years of professional experience</th>\n",
              "      <th>Years of experience in field</th>\n",
              "      <th>Highest level of education completed</th>\n",
              "      <th>Gender</th>\n",
              "      <th>Race</th>\n",
              "    </tr>\n",
              "  </thead>\n",
              "  <tbody>\n",
              "    <tr>\n",
              "      <th>0</th>\n",
              "      <td>4/27/2021 11:02:10</td>\n",
              "      <td>25-34</td>\n",
              "      <td>Education (Higher Education)</td>\n",
              "      <td>Research and Instruction Librarian</td>\n",
              "      <td>NaN</td>\n",
              "      <td>55,000</td>\n",
              "      <td>0.0</td>\n",
              "      <td>USD</td>\n",
              "      <td>NaN</td>\n",
              "      <td>NaN</td>\n",
              "      <td>United States</td>\n",
              "      <td>Massachusetts</td>\n",
              "      <td>Boston</td>\n",
              "      <td>5-7 years</td>\n",
              "      <td>5-7 years</td>\n",
              "      <td>Master's degree</td>\n",
              "      <td>Woman</td>\n",
              "      <td>White</td>\n",
              "    </tr>\n",
              "    <tr>\n",
              "      <th>1</th>\n",
              "      <td>4/27/2021 11:02:22</td>\n",
              "      <td>25-34</td>\n",
              "      <td>Computing or Tech</td>\n",
              "      <td>Change &amp; Internal Communications Manager</td>\n",
              "      <td>NaN</td>\n",
              "      <td>54,600</td>\n",
              "      <td>4000.0</td>\n",
              "      <td>GBP</td>\n",
              "      <td>NaN</td>\n",
              "      <td>NaN</td>\n",
              "      <td>United Kingdom</td>\n",
              "      <td>NaN</td>\n",
              "      <td>Cambridge</td>\n",
              "      <td>8 - 10 years</td>\n",
              "      <td>5-7 years</td>\n",
              "      <td>College degree</td>\n",
              "      <td>Non-binary</td>\n",
              "      <td>White</td>\n",
              "    </tr>\n",
              "    <tr>\n",
              "      <th>2</th>\n",
              "      <td>4/27/2021 11:02:38</td>\n",
              "      <td>25-34</td>\n",
              "      <td>Accounting, Banking &amp; Finance</td>\n",
              "      <td>Marketing Specialist</td>\n",
              "      <td>NaN</td>\n",
              "      <td>34,000</td>\n",
              "      <td>NaN</td>\n",
              "      <td>USD</td>\n",
              "      <td>NaN</td>\n",
              "      <td>NaN</td>\n",
              "      <td>US</td>\n",
              "      <td>Tennessee</td>\n",
              "      <td>Chattanooga</td>\n",
              "      <td>2 - 4 years</td>\n",
              "      <td>2 - 4 years</td>\n",
              "      <td>College degree</td>\n",
              "      <td>Woman</td>\n",
              "      <td>White</td>\n",
              "    </tr>\n",
              "    <tr>\n",
              "      <th>3</th>\n",
              "      <td>4/27/2021 11:02:41</td>\n",
              "      <td>25-34</td>\n",
              "      <td>Nonprofits</td>\n",
              "      <td>Program Manager</td>\n",
              "      <td>NaN</td>\n",
              "      <td>62,000</td>\n",
              "      <td>3000.0</td>\n",
              "      <td>USD</td>\n",
              "      <td>NaN</td>\n",
              "      <td>NaN</td>\n",
              "      <td>USA</td>\n",
              "      <td>Wisconsin</td>\n",
              "      <td>Milwaukee</td>\n",
              "      <td>8 - 10 years</td>\n",
              "      <td>5-7 years</td>\n",
              "      <td>College degree</td>\n",
              "      <td>Woman</td>\n",
              "      <td>White</td>\n",
              "    </tr>\n",
              "    <tr>\n",
              "      <th>4</th>\n",
              "      <td>4/27/2021 11:02:42</td>\n",
              "      <td>25-34</td>\n",
              "      <td>Accounting, Banking &amp; Finance</td>\n",
              "      <td>Accounting Manager</td>\n",
              "      <td>NaN</td>\n",
              "      <td>60,000</td>\n",
              "      <td>7000.0</td>\n",
              "      <td>USD</td>\n",
              "      <td>NaN</td>\n",
              "      <td>NaN</td>\n",
              "      <td>US</td>\n",
              "      <td>South Carolina</td>\n",
              "      <td>Greenville</td>\n",
              "      <td>8 - 10 years</td>\n",
              "      <td>5-7 years</td>\n",
              "      <td>College degree</td>\n",
              "      <td>Woman</td>\n",
              "      <td>White</td>\n",
              "    </tr>\n",
              "  </tbody>\n",
              "</table>\n",
              "</div>"
            ],
            "text/plain": [
              "            Timestamp How old are you?  ...      Gender   Race\n",
              "0  4/27/2021 11:02:10            25-34  ...       Woman  White\n",
              "1  4/27/2021 11:02:22            25-34  ...  Non-binary  White\n",
              "2  4/27/2021 11:02:38            25-34  ...       Woman  White\n",
              "3  4/27/2021 11:02:41            25-34  ...       Woman  White\n",
              "4  4/27/2021 11:02:42            25-34  ...       Woman  White\n",
              "\n",
              "[5 rows x 18 columns]"
            ]
          },
          "metadata": {},
          "execution_count": 2
        }
      ]
    },
    {
      "cell_type": "code",
      "metadata": {
        "colab": {
          "base_uri": "https://localhost:8080/",
          "height": 400
        },
        "id": "31DQNiVP_Nfg",
        "outputId": "d2074314-68d0-4215-e7a6-be83d626f669"
      },
      "source": [
        "df.columns = ['date', 'age', 'industry', 'job', 'context', \n",
        "              'wage', 'money_component', 'currency', 'other_currency', 'income_context', \n",
        "              'country', 'state', 'city', 'experience', 'actual_experience',\n",
        "              'education', 'gender', 'race']\n",
        "\n",
        "df.head()"
      ],
      "execution_count": null,
      "outputs": [
        {
          "output_type": "execute_result",
          "data": {
            "text/html": [
              "<div>\n",
              "<style scoped>\n",
              "    .dataframe tbody tr th:only-of-type {\n",
              "        vertical-align: middle;\n",
              "    }\n",
              "\n",
              "    .dataframe tbody tr th {\n",
              "        vertical-align: top;\n",
              "    }\n",
              "\n",
              "    .dataframe thead th {\n",
              "        text-align: right;\n",
              "    }\n",
              "</style>\n",
              "<table border=\"1\" class=\"dataframe\">\n",
              "  <thead>\n",
              "    <tr style=\"text-align: right;\">\n",
              "      <th></th>\n",
              "      <th>date</th>\n",
              "      <th>age</th>\n",
              "      <th>industry</th>\n",
              "      <th>job</th>\n",
              "      <th>context</th>\n",
              "      <th>wage</th>\n",
              "      <th>money_component</th>\n",
              "      <th>currency</th>\n",
              "      <th>other_currency</th>\n",
              "      <th>income_context</th>\n",
              "      <th>country</th>\n",
              "      <th>state</th>\n",
              "      <th>city</th>\n",
              "      <th>experience</th>\n",
              "      <th>actual_experience</th>\n",
              "      <th>education</th>\n",
              "      <th>gender</th>\n",
              "      <th>race</th>\n",
              "    </tr>\n",
              "  </thead>\n",
              "  <tbody>\n",
              "    <tr>\n",
              "      <th>0</th>\n",
              "      <td>4/27/2021 11:02:10</td>\n",
              "      <td>25-34</td>\n",
              "      <td>Education (Higher Education)</td>\n",
              "      <td>Research and Instruction Librarian</td>\n",
              "      <td>NaN</td>\n",
              "      <td>55,000</td>\n",
              "      <td>0.0</td>\n",
              "      <td>USD</td>\n",
              "      <td>NaN</td>\n",
              "      <td>NaN</td>\n",
              "      <td>United States</td>\n",
              "      <td>Massachusetts</td>\n",
              "      <td>Boston</td>\n",
              "      <td>5-7 years</td>\n",
              "      <td>5-7 years</td>\n",
              "      <td>Master's degree</td>\n",
              "      <td>Woman</td>\n",
              "      <td>White</td>\n",
              "    </tr>\n",
              "    <tr>\n",
              "      <th>1</th>\n",
              "      <td>4/27/2021 11:02:22</td>\n",
              "      <td>25-34</td>\n",
              "      <td>Computing or Tech</td>\n",
              "      <td>Change &amp; Internal Communications Manager</td>\n",
              "      <td>NaN</td>\n",
              "      <td>54,600</td>\n",
              "      <td>4000.0</td>\n",
              "      <td>GBP</td>\n",
              "      <td>NaN</td>\n",
              "      <td>NaN</td>\n",
              "      <td>United Kingdom</td>\n",
              "      <td>NaN</td>\n",
              "      <td>Cambridge</td>\n",
              "      <td>8 - 10 years</td>\n",
              "      <td>5-7 years</td>\n",
              "      <td>College degree</td>\n",
              "      <td>Non-binary</td>\n",
              "      <td>White</td>\n",
              "    </tr>\n",
              "    <tr>\n",
              "      <th>2</th>\n",
              "      <td>4/27/2021 11:02:38</td>\n",
              "      <td>25-34</td>\n",
              "      <td>Accounting, Banking &amp; Finance</td>\n",
              "      <td>Marketing Specialist</td>\n",
              "      <td>NaN</td>\n",
              "      <td>34,000</td>\n",
              "      <td>NaN</td>\n",
              "      <td>USD</td>\n",
              "      <td>NaN</td>\n",
              "      <td>NaN</td>\n",
              "      <td>US</td>\n",
              "      <td>Tennessee</td>\n",
              "      <td>Chattanooga</td>\n",
              "      <td>2 - 4 years</td>\n",
              "      <td>2 - 4 years</td>\n",
              "      <td>College degree</td>\n",
              "      <td>Woman</td>\n",
              "      <td>White</td>\n",
              "    </tr>\n",
              "    <tr>\n",
              "      <th>3</th>\n",
              "      <td>4/27/2021 11:02:41</td>\n",
              "      <td>25-34</td>\n",
              "      <td>Nonprofits</td>\n",
              "      <td>Program Manager</td>\n",
              "      <td>NaN</td>\n",
              "      <td>62,000</td>\n",
              "      <td>3000.0</td>\n",
              "      <td>USD</td>\n",
              "      <td>NaN</td>\n",
              "      <td>NaN</td>\n",
              "      <td>USA</td>\n",
              "      <td>Wisconsin</td>\n",
              "      <td>Milwaukee</td>\n",
              "      <td>8 - 10 years</td>\n",
              "      <td>5-7 years</td>\n",
              "      <td>College degree</td>\n",
              "      <td>Woman</td>\n",
              "      <td>White</td>\n",
              "    </tr>\n",
              "    <tr>\n",
              "      <th>4</th>\n",
              "      <td>4/27/2021 11:02:42</td>\n",
              "      <td>25-34</td>\n",
              "      <td>Accounting, Banking &amp; Finance</td>\n",
              "      <td>Accounting Manager</td>\n",
              "      <td>NaN</td>\n",
              "      <td>60,000</td>\n",
              "      <td>7000.0</td>\n",
              "      <td>USD</td>\n",
              "      <td>NaN</td>\n",
              "      <td>NaN</td>\n",
              "      <td>US</td>\n",
              "      <td>South Carolina</td>\n",
              "      <td>Greenville</td>\n",
              "      <td>8 - 10 years</td>\n",
              "      <td>5-7 years</td>\n",
              "      <td>College degree</td>\n",
              "      <td>Woman</td>\n",
              "      <td>White</td>\n",
              "    </tr>\n",
              "  </tbody>\n",
              "</table>\n",
              "</div>"
            ],
            "text/plain": [
              "                 date    age  ...      gender   race\n",
              "0  4/27/2021 11:02:10  25-34  ...       Woman  White\n",
              "1  4/27/2021 11:02:22  25-34  ...  Non-binary  White\n",
              "2  4/27/2021 11:02:38  25-34  ...       Woman  White\n",
              "3  4/27/2021 11:02:41  25-34  ...       Woman  White\n",
              "4  4/27/2021 11:02:42  25-34  ...       Woman  White\n",
              "\n",
              "[5 rows x 18 columns]"
            ]
          },
          "metadata": {},
          "execution_count": 3
        }
      ]
    },
    {
      "cell_type": "code",
      "metadata": {
        "colab": {
          "base_uri": "https://localhost:8080/"
        },
        "id": "v5O1q2F2AYnD",
        "outputId": "5a952616-2553-4aef-9b89-935feabed72a"
      },
      "source": [
        "print('The perc. of empty values')\n",
        "for column_name in df:\n",
        "    percentage_na = df[column_name].isna().mean() * 100\n",
        "    print(f'{column_name} : {np.round(percentage_na)} %')"
      ],
      "execution_count": null,
      "outputs": [
        {
          "output_type": "stream",
          "name": "stdout",
          "text": [
            "The perc. of empty values\n",
            "date : 0.0 %\n",
            "age : 0.0 %\n",
            "industry : 0.0 %\n",
            "job : 0.0 %\n",
            "context : 74.0 %\n",
            "wage : 0.0 %\n",
            "money_component : 26.0 %\n",
            "currency : 0.0 %\n",
            "other_currency : 99.0 %\n",
            "income_context : 89.0 %\n",
            "country : 0.0 %\n",
            "state : 18.0 %\n",
            "city : 0.0 %\n",
            "experience : 0.0 %\n",
            "actual_experience : 0.0 %\n",
            "education : 1.0 %\n",
            "gender : 1.0 %\n",
            "race : 1.0 %\n"
          ]
        }
      ]
    },
    {
      "cell_type": "markdown",
      "metadata": {
        "id": "mh7nlqz0Aek6"
      },
      "source": [
        "We can notice that 'context', 'money_component' 'other_currency', 'income_context' have a lot of missing values. Moreover, they did not give us relevent information in our process. Thus we can just drop them. \n",
        "\n",
        "About the state feature, it could be interesting to exploit it event if we have 18% missing value. Thus, for the time being we will keep those rows, and when it will be time to deal with this data we will drop the missing rows. \n",
        "\n",
        "Finally, with a rate of 1% missing values, we can drop the rows concerned by education, gender and race missing value without any risk of bias."
      ]
    },
    {
      "cell_type": "code",
      "metadata": {
        "colab": {
          "base_uri": "https://localhost:8080/"
        },
        "id": "h19F_CzEDFWd",
        "outputId": "1ba5dd68-9b51-4343-8102-309462cf9ead"
      },
      "source": [
        "drop_columns = ['context','money_component','other_currency','income_context']\n",
        "df = df.drop(drop_columns,1)\n",
        "df.shape"
      ],
      "execution_count": null,
      "outputs": [
        {
          "output_type": "execute_result",
          "data": {
            "text/plain": [
              "(27508, 14)"
            ]
          },
          "metadata": {},
          "execution_count": 5
        }
      ]
    },
    {
      "cell_type": "code",
      "metadata": {
        "colab": {
          "base_uri": "https://localhost:8080/"
        },
        "id": "oFvj6jRsDD1G",
        "outputId": "146ae500-d17f-463b-803d-b7e91091d250"
      },
      "source": [
        "mask_nan = (df['education'].isna().values | df['gender'].isna().values | df['race'].isna().values)\n",
        "df = df[~mask_nan].reset_index(drop=True)\n",
        "\n",
        "numbers_rows = df.shape[0]\n",
        "numbers_columns = df.shape[1]\n",
        "\n",
        "print(f'Building metadata without na rows except for state : {numbers_rows} | columns : {numbers_columns}')"
      ],
      "execution_count": null,
      "outputs": [
        {
          "output_type": "stream",
          "name": "stdout",
          "text": [
            "Building metadata without na rows except for state : 27079 | columns : 14\n"
          ]
        }
      ]
    },
    {
      "cell_type": "code",
      "metadata": {
        "colab": {
          "base_uri": "https://localhost:8080/",
          "height": 192
        },
        "id": "DKc-Fv5sICDh",
        "outputId": "98f47488-2d9b-4f65-9d5b-3095cbc44379"
      },
      "source": [
        "df.describe()"
      ],
      "execution_count": null,
      "outputs": [
        {
          "output_type": "execute_result",
          "data": {
            "text/html": [
              "<div>\n",
              "<style scoped>\n",
              "    .dataframe tbody tr th:only-of-type {\n",
              "        vertical-align: middle;\n",
              "    }\n",
              "\n",
              "    .dataframe tbody tr th {\n",
              "        vertical-align: top;\n",
              "    }\n",
              "\n",
              "    .dataframe thead th {\n",
              "        text-align: right;\n",
              "    }\n",
              "</style>\n",
              "<table border=\"1\" class=\"dataframe\">\n",
              "  <thead>\n",
              "    <tr style=\"text-align: right;\">\n",
              "      <th></th>\n",
              "      <th>date</th>\n",
              "      <th>age</th>\n",
              "      <th>industry</th>\n",
              "      <th>job</th>\n",
              "      <th>wage</th>\n",
              "      <th>currency</th>\n",
              "      <th>country</th>\n",
              "      <th>state</th>\n",
              "      <th>city</th>\n",
              "      <th>experience</th>\n",
              "      <th>actual_experience</th>\n",
              "      <th>education</th>\n",
              "      <th>gender</th>\n",
              "      <th>race</th>\n",
              "    </tr>\n",
              "  </thead>\n",
              "  <tbody>\n",
              "    <tr>\n",
              "      <th>count</th>\n",
              "      <td>27079</td>\n",
              "      <td>27079</td>\n",
              "      <td>27013</td>\n",
              "      <td>27079</td>\n",
              "      <td>27079</td>\n",
              "      <td>27079</td>\n",
              "      <td>27079</td>\n",
              "      <td>22298</td>\n",
              "      <td>27004</td>\n",
              "      <td>27079</td>\n",
              "      <td>27079</td>\n",
              "      <td>27079</td>\n",
              "      <td>27079</td>\n",
              "      <td>27079</td>\n",
              "    </tr>\n",
              "    <tr>\n",
              "      <th>unique</th>\n",
              "      <td>24369</td>\n",
              "      <td>7</td>\n",
              "      <td>1181</td>\n",
              "      <td>13927</td>\n",
              "      <td>4183</td>\n",
              "      <td>11</td>\n",
              "      <td>359</td>\n",
              "      <td>129</td>\n",
              "      <td>4681</td>\n",
              "      <td>8</td>\n",
              "      <td>8</td>\n",
              "      <td>6</td>\n",
              "      <td>5</td>\n",
              "      <td>48</td>\n",
              "    </tr>\n",
              "    <tr>\n",
              "      <th>top</th>\n",
              "      <td>4/27/2021 11:05:17</td>\n",
              "      <td>25-34</td>\n",
              "      <td>Computing or Tech</td>\n",
              "      <td>Software Engineer</td>\n",
              "      <td>60,000</td>\n",
              "      <td>USD</td>\n",
              "      <td>United States</td>\n",
              "      <td>California</td>\n",
              "      <td>Boston</td>\n",
              "      <td>11 - 20 years</td>\n",
              "      <td>11 - 20 years</td>\n",
              "      <td>College degree</td>\n",
              "      <td>Woman</td>\n",
              "      <td>White</td>\n",
              "    </tr>\n",
              "    <tr>\n",
              "      <th>freq</th>\n",
              "      <td>5</td>\n",
              "      <td>12196</td>\n",
              "      <td>4518</td>\n",
              "      <td>275</td>\n",
              "      <td>423</td>\n",
              "      <td>22593</td>\n",
              "      <td>8716</td>\n",
              "      <td>2526</td>\n",
              "      <td>751</td>\n",
              "      <td>9347</td>\n",
              "      <td>6360</td>\n",
              "      <td>13136</td>\n",
              "      <td>20834</td>\n",
              "      <td>22646</td>\n",
              "    </tr>\n",
              "  </tbody>\n",
              "</table>\n",
              "</div>"
            ],
            "text/plain": [
              "                      date    age  ... gender   race\n",
              "count                27079  27079  ...  27079  27079\n",
              "unique               24369      7  ...      5     48\n",
              "top     4/27/2021 11:05:17  25-34  ...  Woman  White\n",
              "freq                     5  12196  ...  20834  22646\n",
              "\n",
              "[4 rows x 14 columns]"
            ]
          },
          "metadata": {},
          "execution_count": 7
        }
      ]
    },
    {
      "cell_type": "markdown",
      "metadata": {
        "id": "sfF-1s0PICnJ"
      },
      "source": [
        "Moreover, we can notice that there's 359 unique values for country feature. However, our study is focus on United States so let's check that."
      ]
    },
    {
      "cell_type": "code",
      "metadata": {
        "colab": {
          "base_uri": "https://localhost:8080/"
        },
        "id": "cxuzOahoNDMz",
        "outputId": "5c4f40f1-1157-440f-e380-63daa5da52c5"
      },
      "source": [
        "print(df['country'].unique())"
      ],
      "execution_count": null,
      "outputs": [
        {
          "output_type": "stream",
          "name": "stdout",
          "text": [
            "['United States' 'United Kingdom' 'US' 'USA' 'Canada' 'United Kingdom '\n",
            " 'usa' 'UK' 'Scotland ' 'U.S.' 'United States ' 'The Netherlands'\n",
            " 'Australia ' 'Spain' 'us' 'Usa' 'England' 'finland'\n",
            " 'United States of America' 'France' 'United states' 'Scotland' 'USA '\n",
            " 'United states ' 'Germany' 'UK ' 'united states' 'Ireland' 'India'\n",
            " 'Australia' 'Uk' 'United States of America ' 'U.S. ' 'canada' 'Canada '\n",
            " 'U.S>' 'ISA' 'Argentina' 'Great Britain ' 'US ' 'United State' 'U.S.A'\n",
            " 'Denmark' 'U.S.A.' 'America' 'Netherlands' 'netherlands' 'England '\n",
            " 'united states of america' 'Ireland ' 'Switzerland' 'Netherlands '\n",
            " 'Bermuda' 'Us' 'The United States' 'United State of America' 'Malaysia'\n",
            " 'Mexico ' 'United Stated' 'South Africa ' 'Belgium' 'Northern Ireland'\n",
            " 'u.s.' 'South Africa' 'UNITED STATES' 'united States' 'Sweden'\n",
            " 'Hong Kong' 'Kuwait' 'Norway' 'Sri lanka' 'Contracts'\n",
            " 'USA-- Virgin Islands' 'United Statws' 'England/UK' 'U.S'\n",
            " \"We don't get raises, we get quarterly bonuses, but they periodically asses income in the area you work, so I got a raise because a 3rd party assessment showed I was paid too little for the area we were located\"\n",
            " 'Unites States ' 'Usa ' 'U.S.A. ' 'England, UK.' 'Greece' 'U. S. '\n",
            " 'Britain ' 'United Sates' 'Austria' 'Brazil' 'Canada, Ottawa, ontario'\n",
            " 'Global' 'Sweden ' 'United States of American ' 'FRANCE' 'Uniited States'\n",
            " 'United Kingdom (England)'\n",
            " 'Worldwide (based in US but short term trips aroudn the world)' 'CANADA '\n",
            " 'Canadw' 'Hungary' 'Luxembourg' 'United Sates of America' 'ireland'\n",
            " 'United States (I work from home and my clients are all over the US/Canada/PR'\n",
            " 'Colombia' 'CANADA' 'Unted States' 'germany' 'United Statesp'\n",
            " 'United Stattes' 'United Statea' 'United Kingdom.' 'Mexico' 'New Zealand'\n",
            " 'Trinidad and Tobago' 'Unites States' 'United Statees' 'United kingdom'\n",
            " 'Cayman Islands' 'Can'\n",
            " 'I am located in Canada but I work for a company in the US'\n",
            " 'United kingdom ' 'Germany ' 'Uniyed states' 'Uniyes States'\n",
            " 'United States of Americas' 'U.A.' 'Czech republic' 'Czechia' 'Latvia'\n",
            " 'Finland' 'U. S.' 'Puerto Rico' 'US of A' 'Rwanda'\n",
            " 'United States of america ' 'United Arab Emirates ' 'Spain ' 'U.K. '\n",
            " 'Romania' 'U.SA' 'United Kindom' 'United Status' 'New Zealand '\n",
            " 'Currently finance' ' U.S.' 'Serbia' 'Philippines' 'Russia ' 'Poland'\n",
            " 'UXZ' 'czech republic' 'England, UK' 'Turkey' 'Canda' 'Puerto Rico '\n",
            " 'Canada and USA' 'Catalonia' '$2,175.84/year is deducted for benefits'\n",
            " 'uk' 'France ' 'Italy (South)' 'Jersey, Channel islands' 'Uk ' 'China'\n",
            " 'Virginia' 'Afghanistan' 'Israel' 'U.s.' 'Great Britain' 'U.s.a.' 'USS'\n",
            " 'Denmark ' 'Uniteed States' 'New Zealand Aotearoa' 'U.K.' 'Hartford'\n",
            " 'Japan, US Gov position' 'Csnada' 'United Stares' 'New zealand'\n",
            " 'Mainland China' 'I.S.' 'UK (Northern Ireland)' 'UK for U.S. company'\n",
            " 'Japan' ' US' 'Unites states ' 'NZ' 'Us ' 'Hong Kong ' 'Taiwan' 'Canad'\n",
            " 'Unite States' 'australia' 'The US' 'united states ' 'The Netherlands '\n",
            " 'Cambodia' 'United states of America ' 'Vietnam' 'Remote' 'Singapore'\n",
            " 'South Korea' 'Czech Republic ' 'Thailand' 'Bangladesh' 'Lithuania'\n",
            " 'Eritrea' 'Indonesia' 'Singapore '\n",
            " 'For the United States government, but posted overseas' 'IS'\n",
            " 'Switzerland ' 'United Kingdomk' 'Italy' ' New Zealand' 'Cuba' 'Slovenia'\n",
            " 'Australi' \"Cote d'Ivoire\" 'united kingdom'\n",
            " 'From Romania, but for an US based company' 'Somalia'\n",
            " 'Wales (United Kingdom)' 'England, Gb' 'Czech Republic' 'UnitedStates'\n",
            " 'Sri Lanka' 'Danmark' 'U.K. (northern England)' 'U.K' 'NL'\n",
            " 'the Netherlands' 'Nederland' 'Slovakia' 'United States of america'\n",
            " 'Portugal ' 'England, United Kingdom' 'Sierra Leone' 'Englang'\n",
            " 'United statew' 'UAE' 'Belgium ' 'International ' 'The Bahamas ' 'Wales'\n",
            " \"I earn commission on sales. If I meet quota, I'm guaranteed another 16k min. Last year i earned an additional 27k. It's not uncommon for people in my space to earn 100k+ after commission. \"\n",
            " 'Costa Rica' ' United States' 'United Statues' 'Untied States'\n",
            " 'USA (company is based in a US territory, I work remote)' 'Chile'\n",
            " 'denmark' 'UK (England)' 'UK, remote' 'Scotland, UK' 'USAB'\n",
            " 'Unitied States' 'Norway ' 'Qatar' 'United Sttes' 'Remote (philippines)'\n",
            " 'Brazil ' 'Unites kingdom ' 'South africa' 'Portugal' 'united stated'\n",
            " 'United States Of America' 'Nigeria' 'Panamá' 'Northern Ireland '\n",
            " 'england' 'SWITZERLAND'\n",
            " 'Austria, but I work remotely for a Dutch/British company'\n",
            " \"I work for an US based company but I'm from Argentina.\"\n",
            " 'I was brought in on this salary to help with the EHR and very quickly was promoted to current position but compensation was not altered. '\n",
            " 'Uniter Statez' 'U. S ' 'Congo' 'United states of America' 'Uruguay'\n",
            " 'Pakistan' 'Brasil' 'USA tomorrow ' 'United Stateds'\n",
            " 'n/a (remote from wherever I want)' 'singapore'\n",
            " 'US govt employee overseas, country withheld' 'usa ' 'Malaysia ' 'Uganda'\n",
            " 'Malta' 'Saudi Arabia' 'Bulgaria' 'Estonia' 'Morocco' 'new zealand'\n",
            " 'Africa' 'Ecuador' 'Zimbabwe' 'Ghana' 'San Francisco' 'Japan ' 'Usat'\n",
            " '🇺🇸 ' 'Luxemburg' 'Unitef Stated' 'UA' 'Wales, UK' 'United Stares '\n",
            " 'Croatia ' 'England, United Kingdom ' 'United STates' 'USaa' 'uSA'\n",
            " 'South Korea ' 'The netherlands' 'Ukraine ' 'spain' 'america'\n",
            " 'switzerland' 'United States- Puerto Rico'\n",
            " 'From New Zealand but on projects across APAC' 'Y' 'United y'\n",
            " 'Wales (UK)' 'Isle of Man' 'Northern Ireland, United Kingdom' 'europe'\n",
            " 'California ' 'UK, but for globally fully remote company' 'Australian '\n",
            " 'México' 'Jamaica' 'uS' 'USD' 'the netherlands'\n",
            " \"USA, but for foreign gov't\" 'japan' 'Kenya' 'Jordan' 'United Statss'\n",
            " 'ARGENTINA BUT MY ORG IS IN THAILAND' 'United states of america' 'UsA'\n",
            " 'I work for a UAE-based organization, though I am personally in the US.'\n",
            " 'United  States' 'france' 'Aotearoa New Zealand' 'na' 'Policy' 'Cyprus'\n",
            " 'hong konh' 'United States is America' 'Liechtenstein'\n",
            " 'Company in Germany. I work from Pakistan.' 'croatia' 'Canadá' 'ENGLAND']\n"
          ]
        }
      ]
    },
    {
      "cell_type": "code",
      "metadata": {
        "colab": {
          "base_uri": "https://localhost:8080/"
        },
        "id": "yxxzicpTP286",
        "outputId": "ae57fe32-ca1f-4a10-ae24-be4d2fde33be"
      },
      "source": [
        "df1 = df[df['country'].str.startswith('u')] \n",
        "df1 = df1[df1[\"country\"].str.contains(\"s|S\")]\n",
        "\n",
        "df2 = df[df['country'].str.startswith('U')]\n",
        "df2 = df2[df2[\"country\"].str.contains(\"s|S\")]\n",
        "\n",
        "df_try2 = pd.concat([df1, df2])\n",
        "print(df_try2['country'].unique())"
      ],
      "execution_count": null,
      "outputs": [
        {
          "output_type": "stream",
          "name": "stdout",
          "text": [
            "['usa' 'us' 'united states' 'united states of america' 'u.s.'\n",
            " 'united States' 'united states ' 'united stated' 'usa ' 'uSA' 'uS'\n",
            " 'United States' 'US' 'USA' 'U.S.' 'United States ' 'Usa'\n",
            " 'United States of America' 'United states' 'USA ' 'United states '\n",
            " 'United States of America ' 'U.S. ' 'U.S>' 'US ' 'United State' 'U.S.A'\n",
            " 'U.S.A.' 'Us' 'United State of America' 'United Stated' 'UNITED STATES'\n",
            " 'USA-- Virgin Islands' 'United Statws' 'U.S' 'Unites States ' 'Usa '\n",
            " 'U.S.A. ' 'U. S. ' 'United Sates' 'United States of American '\n",
            " 'Uniited States' 'United Sates of America'\n",
            " 'United States (I work from home and my clients are all over the US/Canada/PR'\n",
            " 'Unted States' 'United Statesp' 'United Stattes' 'United Statea'\n",
            " 'Unites States' 'United Statees' 'Uniyed states' 'Uniyes States'\n",
            " 'United States of Americas' 'U. S.' 'US of A' 'United States of america '\n",
            " 'United Arab Emirates ' 'U.SA' 'United Status' 'U.s.' 'U.s.a.' 'USS'\n",
            " 'Uniteed States' 'United Stares' 'UK for U.S. company' 'Unites states '\n",
            " 'Us ' 'Unite States' 'United states of America ' 'UnitedStates'\n",
            " 'United States of america' 'United statew' 'United Statues'\n",
            " 'Untied States' 'USA (company is based in a US territory, I work remote)'\n",
            " 'USAB' 'Unitied States' 'United Sttes' 'Unites kingdom '\n",
            " 'United States Of America' 'Uniter Statez' 'U. S '\n",
            " 'United states of America' 'USA tomorrow ' 'United Stateds'\n",
            " 'US govt employee overseas, country withheld' 'Usat' 'Unitef Stated'\n",
            " 'United Stares ' 'United STates' 'USaa' 'United States- Puerto Rico'\n",
            " 'USD' \"USA, but for foreign gov't\" 'United Statss'\n",
            " 'United states of america' 'UsA' 'United  States'\n",
            " 'United States is America']\n"
          ]
        }
      ]
    },
    {
      "cell_type": "markdown",
      "metadata": {
        "id": "5HG-zYcnXcCu"
      },
      "source": [
        "After this first filter which selected all the countries's name starting by the letter u, we have to drop those different from our target country. \n",
        "\n",
        "We can easly removed UK by filtering countries that contains the letter k."
      ]
    },
    {
      "cell_type": "code",
      "metadata": {
        "id": "RSzFa-U6Uo5_"
      },
      "source": [
        "df_try2 = df_try2[~(df_try2['country'].str.contains('K|k|Emirates'))]"
      ],
      "execution_count": null,
      "outputs": []
    },
    {
      "cell_type": "code",
      "metadata": {
        "colab": {
          "base_uri": "https://localhost:8080/"
        },
        "id": "4N6rQ17GWoMB",
        "outputId": "ca2e2ff4-f6a7-4abf-a131-d64e18d79778"
      },
      "source": [
        "print(df_try2.shape)\n",
        "print(df_try2['country'].unique())"
      ],
      "execution_count": null,
      "outputs": [
        {
          "output_type": "stream",
          "name": "stdout",
          "text": [
            "(22383, 14)\n",
            "['usa' 'us' 'united states' 'united states of america' 'u.s.'\n",
            " 'united States' 'united states ' 'united stated' 'usa ' 'uSA' 'uS'\n",
            " 'United States' 'US' 'USA' 'U.S.' 'United States ' 'Usa'\n",
            " 'United States of America' 'United states' 'USA ' 'United states '\n",
            " 'United States of America ' 'U.S. ' 'U.S>' 'US ' 'United State' 'U.S.A'\n",
            " 'U.S.A.' 'Us' 'United State of America' 'United Stated' 'UNITED STATES'\n",
            " 'USA-- Virgin Islands' 'United Statws' 'U.S' 'Unites States ' 'Usa '\n",
            " 'U.S.A. ' 'U. S. ' 'United Sates' 'United States of American '\n",
            " 'Uniited States' 'United Sates of America' 'Unted States'\n",
            " 'United Statesp' 'United Stattes' 'United Statea' 'Unites States'\n",
            " 'United Statees' 'Uniyed states' 'Uniyes States'\n",
            " 'United States of Americas' 'U. S.' 'US of A' 'United States of america '\n",
            " 'U.SA' 'United Status' 'U.s.' 'U.s.a.' 'USS' 'Uniteed States'\n",
            " 'United Stares' 'Unites states ' 'Us ' 'Unite States'\n",
            " 'United states of America ' 'UnitedStates' 'United States of america'\n",
            " 'United statew' 'United Statues' 'Untied States' 'USAB' 'Unitied States'\n",
            " 'United Sttes' 'United States Of America' 'Uniter Statez' 'U. S '\n",
            " 'United states of America' 'USA tomorrow ' 'United Stateds'\n",
            " 'US govt employee overseas, country withheld' 'Usat' 'Unitef Stated'\n",
            " 'United Stares ' 'United STates' 'USaa' 'United States- Puerto Rico'\n",
            " 'USD' \"USA, but for foreign gov't\" 'United Statss'\n",
            " 'United states of america' 'UsA' 'United  States'\n",
            " 'United States is America']\n"
          ]
        }
      ]
    },
    {
      "cell_type": "code",
      "metadata": {
        "colab": {
          "base_uri": "https://localhost:8080/"
        },
        "id": "Pq6PiTRVhY44",
        "outputId": "85d8aa81-14d8-4989-9cc0-d4694daf5824"
      },
      "source": [
        "df_try2[df_try2['currency'] != 'USD']['currency'].count() #We count the number of rows that do not have 'USD' as currency."
      ],
      "execution_count": null,
      "outputs": [
        {
          "output_type": "execute_result",
          "data": {
            "text/plain": [
              "22"
            ]
          },
          "metadata": {},
          "execution_count": 12
        }
      ]
    },
    {
      "cell_type": "markdown",
      "metadata": {
        "id": "wIjRLp0WhdeL"
      },
      "source": [
        "We only have 22 rows that do not have 'USD' as currency, so we can delete them\n"
      ]
    },
    {
      "cell_type": "code",
      "metadata": {
        "id": "Xt7N6rFThek0"
      },
      "source": [
        "df_try2 = df_try2[df_try2['currency'] == 'USD']"
      ],
      "execution_count": null,
      "outputs": []
    },
    {
      "cell_type": "markdown",
      "metadata": {
        "id": "BFbGROxKt5zo"
      },
      "source": [
        "# Statistical analysis"
      ]
    },
    {
      "cell_type": "markdown",
      "metadata": {
        "id": "phTni9-Rc-4i"
      },
      "source": [
        "Now that our datas are clean, we can do some statistics to better understand them. "
      ]
    },
    {
      "cell_type": "code",
      "metadata": {
        "colab": {
          "base_uri": "https://localhost:8080/"
        },
        "id": "UlgLzDs1bbaX",
        "outputId": "45104c90-7834-498e-cc3b-f24cf4a01519"
      },
      "source": [
        "df = df_try2\n",
        "df = df.reset_index(drop=True)\n",
        "df.info()"
      ],
      "execution_count": null,
      "outputs": [
        {
          "output_type": "stream",
          "name": "stdout",
          "text": [
            "<class 'pandas.core.frame.DataFrame'>\n",
            "RangeIndex: 22361 entries, 0 to 22360\n",
            "Data columns (total 14 columns):\n",
            " #   Column             Non-Null Count  Dtype \n",
            "---  ------             --------------  ----- \n",
            " 0   date               22361 non-null  object\n",
            " 1   age                22361 non-null  object\n",
            " 2   industry           22310 non-null  object\n",
            " 3   job                22361 non-null  object\n",
            " 4   wage               22361 non-null  object\n",
            " 5   currency           22361 non-null  object\n",
            " 6   country            22361 non-null  object\n",
            " 7   state              22206 non-null  object\n",
            " 8   city               22303 non-null  object\n",
            " 9   experience         22361 non-null  object\n",
            " 10  actual_experience  22361 non-null  object\n",
            " 11  education          22361 non-null  object\n",
            " 12  gender             22361 non-null  object\n",
            " 13  race               22361 non-null  object\n",
            "dtypes: object(14)\n",
            "memory usage: 2.4+ MB\n"
          ]
        }
      ]
    },
    {
      "cell_type": "markdown",
      "metadata": {
        "id": "u7OlHD4Fe70t"
      },
      "source": [
        "We can remark that our data are object type and that the annual salary is given with a coma to separate \"les milliers et le reste\". So we have to fix that to exploit data."
      ]
    },
    {
      "cell_type": "code",
      "metadata": {
        "id": "Vaj33rKZd40T"
      },
      "source": [
        "df = df.apply(lambda x: x.str.replace(',',''))"
      ],
      "execution_count": null,
      "outputs": []
    },
    {
      "cell_type": "code",
      "metadata": {
        "id": "TbNhahtNai6x"
      },
      "source": [
        "df_wage = df['wage'].astype(str).astype(int)\n",
        "df['wage']=df_wage"
      ],
      "execution_count": null,
      "outputs": []
    },
    {
      "cell_type": "code",
      "metadata": {
        "colab": {
          "base_uri": "https://localhost:8080/"
        },
        "id": "eHE2u9JVgdvK",
        "outputId": "edc14d8d-079a-48ef-c6ca-669495f28521"
      },
      "source": [
        "df.info()"
      ],
      "execution_count": null,
      "outputs": [
        {
          "output_type": "stream",
          "name": "stdout",
          "text": [
            "<class 'pandas.core.frame.DataFrame'>\n",
            "RangeIndex: 22361 entries, 0 to 22360\n",
            "Data columns (total 14 columns):\n",
            " #   Column             Non-Null Count  Dtype \n",
            "---  ------             --------------  ----- \n",
            " 0   date               22361 non-null  object\n",
            " 1   age                22361 non-null  object\n",
            " 2   industry           22310 non-null  object\n",
            " 3   job                22361 non-null  object\n",
            " 4   wage               22361 non-null  int64 \n",
            " 5   currency           22361 non-null  object\n",
            " 6   country            22361 non-null  object\n",
            " 7   state              22206 non-null  object\n",
            " 8   city               22303 non-null  object\n",
            " 9   experience         22361 non-null  object\n",
            " 10  actual_experience  22361 non-null  object\n",
            " 11  education          22361 non-null  object\n",
            " 12  gender             22361 non-null  object\n",
            " 13  race               22361 non-null  object\n",
            "dtypes: int64(1), object(13)\n",
            "memory usage: 2.4+ MB\n"
          ]
        }
      ]
    },
    {
      "cell_type": "markdown",
      "metadata": {
        "id": "kV-RKlh-hx8F"
      },
      "source": [
        "Looking at the wage statistics we observed that some data doesn't hold water. Indeed  people with 5 millions revenu per year are exceptions or didn't tell the truth, or made a mistake when they filled the survey, and those who have 0$ salaray didn't work, thus they're not our target.\n",
        "Therefore, we have to filter on wage to have some coherence. "
      ]
    },
    {
      "cell_type": "code",
      "metadata": {
        "colab": {
          "base_uri": "https://localhost:8080/"
        },
        "id": "Zr4MgCzKfoLz",
        "outputId": "9a7da668-f70e-4162-93c7-526ca318d01d"
      },
      "source": [
        "#initial wage statistic\n",
        "print('\\n Initial wage statistic:')\n",
        "print('Number of data:',df.wage.count())\n",
        "print('Minimum salary:',df.wage.min())\n",
        "print('Maximum salary:',df.wage.max())\n",
        "\n",
        "#more statistics after filtered\n",
        "print('\\n statistics after filtered:')\n",
        "df = df[(df.wage<500000)&(df.wage>15000)] #better define limitations ?\n",
        "print('Number of data:',df.wage.count())\n",
        "print('Minimum salary:',df.wage.min())\n",
        "print('Maximum salary:',df.wage.max())\n",
        "print('Average salary:',df.wage.mean())\n",
        "print('Median salary:',df.wage.median())\n",
        "print('Variance salary:',np.var(df.wage))\n",
        "print('Standard deviation salary:',df.wage.std())"
      ],
      "execution_count": null,
      "outputs": [
        {
          "output_type": "stream",
          "name": "stdout",
          "text": [
            "\n",
            " Initial wage statistic:\n",
            "Number of data: 22361\n",
            "Minimum salary: 0\n",
            "Maximum salary: 5000044\n",
            "\n",
            " statistics after filtered:\n",
            "Number of data: 22203\n",
            "Minimum salary: 15080\n",
            "Maximum salary: 499945\n",
            "Average salary: 90567.34148538485\n",
            "Median salary: 78998.0\n",
            "Variance salary: 2395715923.049462\n",
            "Standard deviation salary: 48947.15342550497\n"
          ]
        }
      ]
    },
    {
      "cell_type": "code",
      "metadata": {
        "colab": {
          "base_uri": "https://localhost:8080/",
          "height": 281
        },
        "id": "DB24kTt5h49c",
        "outputId": "c02f5aff-32b0-4207-9580-d07832ec1b60"
      },
      "source": [
        "plt.hist(df.wage,bins=20)\n",
        "plt.title(\"Histogram of variable 'wage'\")\n",
        "plt.show()"
      ],
      "execution_count": null,
      "outputs": [
        {
          "output_type": "display_data",
          "data": {
            "image/png": "[encoded data removed]",
            "text/plain": [
              "<Figure size 432x288 with 1 Axes>"
            ]
          },
          "metadata": {
            "needs_background": "light"
          }
        }
      ]
    },
    {
      "cell_type": "code",
      "metadata": {
        "colab": {
          "base_uri": "https://localhost:8080/",
          "height": 281
        },
        "id": "yeVRfxc8iPyb",
        "outputId": "da2a5ac0-5770-4f38-c8a9-488367fb69c3"
      },
      "source": [
        "plt.hist(np.log(df.wage),density=True)\n",
        "plt.title(\"Histogram of variable 'log(wage)'\")\n",
        "plt.show()"
      ],
      "execution_count": null,
      "outputs": [
        {
          "output_type": "display_data",
          "data": {
            "image/png": "[encoded data removed]",
            "text/plain": [
              "<Figure size 432x288 with 1 Axes>"
            ]
          },
          "metadata": {
            "needs_background": "light"
          }
        }
      ]
    },
    {
      "cell_type": "markdown",
      "metadata": {
        "id": "8DpR_Q2mGcfc"
      },
      "source": [
        "Pour l'age, l'expérience et l'expérience actuelle on remplace chaque catégorie par la valeur de sa moyenne (qui est ici égale à la médianne car on suppose que l'échantillon est équi-répartie au sein d'un groupe). Pour le genre et le niveau d'éducation on attibut à chaques catégories un numéro de référence. On cast chaque column en un type float afin de pouvoir calculer la matrice de corrélation par la suite. "
      ]
    },
    {
      "cell_type": "code",
      "metadata": {
        "colab": {
          "base_uri": "https://localhost:8080/"
        },
        "id": "NAsOJ-aJrZ0i",
        "outputId": "629e8cef-fc79-43b6-c2a3-607eb8db1a5c"
      },
      "source": [
        "print((df.groupby('age').size()/df['age'].count())*100)\n",
        "\n",
        "df.loc[df['age'] == '18-24', 'age'] = 21\n",
        "df.loc[df['age'] == '25-34', 'age'] = 29.5\n",
        "df.loc[df['age'] == '35-44', 'age'] = 39.5\n",
        "df.loc[df['age'] == '45-54', 'age'] = 49.5\n",
        "df.loc[df['age'] == '55-64', 'age'] = 59.5\n",
        "df.loc[df['age'] == '65 or over', 'age'] = 70\n",
        "df.loc[df['age'] == 'under 18', 'age'] = 16.5\n",
        "\n",
        "df_age = df['age'].astype(float)\n",
        "df['age']=df_age\n",
        "\n",
        "#attribuer à chaque groupe d'age la valeur de la médiane du groupe, puis tracer un histogramme de l'age\n",
        "#on peut commenter que le fait d'avoir l'age précis des personnes aurait était plus précis"
      ],
      "execution_count": null,
      "outputs": [
        {
          "output_type": "stream",
          "name": "stdout",
          "text": [
            "age\n",
            "18-24          4.003963\n",
            "25-34         44.408413\n",
            "35-44         35.891546\n",
            "45-54         11.588524\n",
            "55-64          3.706706\n",
            "65 or over     0.364816\n",
            "under 18       0.036031\n",
            "dtype: float64\n"
          ]
        }
      ]
    },
    {
      "cell_type": "code",
      "metadata": {
        "colab": {
          "base_uri": "https://localhost:8080/"
        },
        "id": "mHVYJlyis3PJ",
        "outputId": "dc97bc72-79a5-43cf-d210-00b791fdf378"
      },
      "source": [
        "print((df.groupby('education').size()/df['education'].count())*100)\n",
        "\n",
        "df.loc[df['education'] == 'High School', 'education'] = 0\n",
        "df.loc[df['education'] == 'Some college', 'education'] = 1\n",
        "df.loc[df['education'] == 'College degree', 'education'] = 2\n",
        "df.loc[df['education'] == 'Professional degree (MD JD etc.)', 'education'] = 3\n",
        "df.loc[df['education'] == \"Master's degree\", 'education'] = 4\n",
        "df.loc[df['education'] == 'PhD', 'education'] = 5\n",
        "\n",
        "df_edu = df['education'].astype(float)\n",
        "df['education']=df_edu"
      ],
      "execution_count": null,
      "outputs": [
        {
          "output_type": "stream",
          "name": "stdout",
          "text": [
            "education\n",
            "College degree                      48.975364\n",
            "High School                          1.756519\n",
            "Master's degree                     32.495609\n",
            "PhD                                  4.819169\n",
            "Professional degree (MD JD etc.)     4.931766\n",
            "Some college                         7.021574\n",
            "dtype: float64\n"
          ]
        }
      ]
    },
    {
      "cell_type": "code",
      "metadata": {
        "colab": {
          "base_uri": "https://localhost:8080/"
        },
        "id": "AB9VYJNftA6h",
        "outputId": "40bc0aa4-7aac-4e44-bc99-e9f1527af87c"
      },
      "source": [
        "print((df.groupby('experience').size()/df['experience'].count())*100)\n",
        "\n",
        "df.loc[df['experience'] == '1 year or less', 'experience'] = 0.5\n",
        "df.loc[df['experience'] == '11 - 20 years', 'experience'] = 15.5\n",
        "df.loc[df['experience'] == '2 - 4 years', 'experience'] = 3\n",
        "df.loc[df['experience'] == '21 - 30 years', 'experience'] = 25.5\n",
        "df.loc[df['experience'] == '31 - 40 years', 'experience'] = 35.5\n",
        "df.loc[df['experience'] == '41 years or more', 'experience'] = 45.5\n",
        "df.loc[df['experience'] == '8 - 10 years', 'experience'] = 9\n",
        "df.loc[df['experience'] == '5-7 years', 'experience'] = 6\n",
        "\n",
        "df_exp = df['experience'].astype(float)\n",
        "df['experience']=df_exp"
      ],
      "execution_count": null,
      "outputs": [
        {
          "output_type": "stream",
          "name": "stdout",
          "text": [
            "experience\n",
            "1 year or less       1.639418\n",
            "11 - 20 years       35.031302\n",
            "2 - 4 years         10.250867\n",
            "21 - 30 years       13.191911\n",
            "31 - 40 years        3.152727\n",
            "41 years or more     0.477413\n",
            "5-7 years           17.101293\n",
            "8 - 10 years        19.155069\n",
            "dtype: float64\n"
          ]
        }
      ]
    },
    {
      "cell_type": "code",
      "metadata": {
        "colab": {
          "base_uri": "https://localhost:8080/"
        },
        "id": "4w5gDtmiuY_M",
        "outputId": "0ca1d9cd-6998-4390-9682-e560c538c24f"
      },
      "source": [
        "print((df.groupby('actual_experience').size()/df['actual_experience'].count())*100)\n",
        "\n",
        "df.loc[df['actual_experience'] == '1 year or less', 'actual_experience'] = 0.5\n",
        "df.loc[df['actual_experience'] == '11 - 20 years', 'actual_experience'] = 15.5\n",
        "df.loc[df['actual_experience'] == '2 - 4 years', 'actual_experience'] = 3\n",
        "df.loc[df['actual_experience'] == '21 - 30 years', 'actual_experience'] = 25.5\n",
        "df.loc[df['actual_experience'] == '31 - 40 years', 'actual_experience'] = 35.5\n",
        "df.loc[df['actual_experience'] == '41 years or more', 'actual_experience'] = 45.5\n",
        "df.loc[df['actual_experience'] == '8 - 10 years', 'actual_experience'] = 9\n",
        "df.loc[df['actual_experience'] == '5-7 years', 'actual_experience'] = 6\n",
        "\n",
        "\n",
        "\n",
        "df_ae = df['actual_experience'].astype(float)\n",
        "df['actual_experience']=df_ae\n",
        "\n",
        "#df['actual_experience'] = df['actual_experience'].replace('1 year or less', 0).replace('11 - 20 years', 1).replace('2 - 4 years', 2).replace('21 - 30 years', 3).replace('31 - 40 years', 4).replace('41 years or more', 5).replace('5-7 years', 6).replace('8 - 10 years ', 7)\n"
      ],
      "execution_count": null,
      "outputs": [
        {
          "output_type": "stream",
          "name": "stdout",
          "text": [
            "actual_experience\n",
            "1 year or less       4.810161\n",
            "11 - 20 years       23.789578\n",
            "2 - 4 years         21.393505\n",
            "21 - 30 years        6.823402\n",
            "31 - 40 years        1.427735\n",
            "41 years or more     0.139621\n",
            "5-7 years           23.537360\n",
            "8 - 10 years        18.078638\n",
            "dtype: float64\n"
          ]
        }
      ]
    },
    {
      "cell_type": "markdown",
      "metadata": {
        "id": "MUY78nTeHphM"
      },
      "source": [
        "Maintenant on regarde les variables non numérique : gender, race, state, industry. "
      ]
    },
    {
      "cell_type": "code",
      "metadata": {
        "colab": {
          "base_uri": "https://localhost:8080/"
        },
        "id": "hId-1dX0aLHk",
        "outputId": "995e260d-1bbd-421c-93fb-d9b4cf247cf8"
      },
      "source": [
        "print((df.groupby('gender').size()/df['gender'].count())*100)\n",
        "\n",
        "df.loc[df['gender'] == 'Woman', 'gender'] = 0\n",
        "df.loc[df['gender'] == 'Man', 'gender'] = 1\n",
        "df.loc[df['gender'] == 'Non-binary', 'gender'] = 2\n",
        "df.loc[df['gender'] == 'Other or prefer not to answer', 'gender'] = 3\n",
        "df.loc[df['gender'] == 'Prefer not to answer', 'gender'] = 3\n",
        "\n",
        "df_gender = df['gender'].astype(float)\n",
        "df['gender']=df_gender\n",
        "\n",
        "#lorsqu'on voudra étudier des métriques qui dépendent du genre\n",
        "#voir combien de autre que woman and man, et supprimé les row correspondant si (et surment) trop peu de % car ça sera pas relevant\n",
        "\n",
        "#Je pense qu'il faut faire 3 data frame : 1 avec tout / 1 sans les genres différents de ceux usuels / 1 sans les states/city pour utiliser le bon df à chq fois"
      ],
      "execution_count": null,
      "outputs": [
        {
          "output_type": "stream",
          "name": "stdout",
          "text": [
            "gender\n",
            "Man                              18.173220\n",
            "Non-binary                        2.616764\n",
            "Other or prefer not to answer     0.954826\n",
            "Prefer not to answer              0.004504\n",
            "Woman                            78.250687\n",
            "dtype: float64\n"
          ]
        }
      ]
    },
    {
      "cell_type": "code",
      "metadata": {
        "colab": {
          "base_uri": "https://localhost:8080/"
        },
        "id": "aIkQwIEoMUY-",
        "outputId": "2c33e93f-1c4d-4d02-933b-53f11d970921"
      },
      "source": [
        "((df.groupby('race').size()/df['race'].count())*100).sort_values(ascending = False).head(5) #94.89%\n",
        "\n",
        "race = ['White','Asian or Asian American','Black or African American','Hispanic Latino or Spanish origin','Another option not listed here or prefer not to answer']\n",
        "df_race = df[df.race.isin(race)]\n",
        "\n",
        "df_race.loc[df['race'] == 'White', 'race'] = 0\n",
        "df_race.loc[df['race'] == 'Asian or Asian American', 'race'] = 1\n",
        "df_race.loc[df['race'] == 'Black or African American', 'race'] = 2\n",
        "df_race.loc[df['race'] == 'Hispanic Latino or Spanish origin', 'race'] = 3\n",
        "df_race.loc[df['race'] == 'Another option not listed here or prefer not to answer', 'race'] = 4"
      ],
      "execution_count": null,
      "outputs": [
        {
          "output_type": "stream",
          "name": "stderr",
          "text": [
            "/usr/local/lib/python3.7/dist-packages/pandas/core/indexing.py:1763: SettingWithCopyWarning: \n",
            "A value is trying to be set on a copy of a slice from a DataFrame.\n",
            "Try using .loc[row_indexer,col_indexer] = value instead\n",
            "\n",
            "See the caveats in the documentation: https://pandas.pydata.org/pandas-docs/stable/user_guide/indexing.html#returning-a-view-versus-a-copy\n",
            "  isetter(loc, value)\n"
          ]
        }
      ]
    },
    {
      "cell_type": "markdown",
      "metadata": {
        "id": "rbI5zBVGHxFy"
      },
      "source": [
        "En prenant la liste des 51 réponses les plus représentés, on arrive à avoir 51 des 52 états, donc aucun doublons. En effet le fait que certaines personnes aient entré à la main l'information fait qu'on perd des informatiosn du au différentes possibilités d'écriture. Ici la liste qu'on obtient représente 99.5% des réponses, la perte d'information est minimales.\n",
        "(add .sum() à ligne suivante)."
      ]
    },
    {
      "cell_type": "code",
      "metadata": {
        "colab": {
          "base_uri": "https://localhost:8080/"
        },
        "id": "Tc0ugza2Hs5F",
        "outputId": "fd093635-276d-4e8e-ace6-b3b618a2d5bc"
      },
      "source": [
        "((df.groupby('state').size()/df['state'].count())*100).sort_values(ascending = False).head(51)"
      ],
      "execution_count": null,
      "outputs": [
        {
          "output_type": "execute_result",
          "data": {
            "text/plain": [
              "state\n",
              "California              11.301587\n",
              "New York                 9.451247\n",
              "Massachusetts            6.671202\n",
              "Texas                    5.433107\n",
              "Illinois                 5.247166\n",
              "Washington               5.174603\n",
              "District of Columbia     4.258503\n",
              "Pennsylvania             4.117914\n",
              "Virginia                 3.428571\n",
              "Minnesota                3.147392\n",
              "Ohio                     2.820862\n",
              "Oregon                   2.752834\n",
              "Colorado                 2.730159\n",
              "North Carolina           2.634921\n",
              "Maryland                 2.448980\n",
              "Michigan                 2.371882\n",
              "Georgia                  2.290249\n",
              "Florida                  2.263039\n",
              "Wisconsin                2.040816\n",
              "New Jersey               1.687075\n",
              "Missouri                 1.460317\n",
              "Indiana                  1.392290\n",
              "Arizona                  1.342404\n",
              "Tennessee                1.247166\n",
              "Connecticut              1.043084\n",
              "Utah                     0.911565\n",
              "Kentucky                 0.802721\n",
              "Iowa                     0.789116\n",
              "Kansas                   0.662132\n",
              "South Carolina           0.643991\n",
              "Louisiana                0.580499\n",
              "Maine                    0.553288\n",
              "New Hampshire            0.512472\n",
              "Oklahoma                 0.507937\n",
              "Alabama                  0.503401\n",
              "Nebraska                 0.485261\n",
              "Idaho                    0.430839\n",
              "New Mexico               0.426304\n",
              "Nevada                   0.408163\n",
              "Rhode Island             0.331066\n",
              "Arkansas                 0.308390\n",
              "Alaska                   0.285714\n",
              "Vermont                  0.285714\n",
              "Montana                  0.281179\n",
              "Mississippi              0.222222\n",
              "Delaware                 0.204082\n",
              "West Virginia            0.176871\n",
              "North Dakota             0.131519\n",
              "Hawaii                   0.113379\n",
              "Wyoming                  0.108844\n",
              "South Dakota             0.108844\n",
              "dtype: float64"
            ]
          },
          "metadata": {},
          "execution_count": 27
        }
      ]
    },
    {
      "cell_type": "code",
      "metadata": {
        "id": "O2scS_kGI9Hh"
      },
      "source": [
        "state = ['California','New York','Massachusetts','Texas','Illinois','Washington','District of Columbia','Pennsylvania','Virginia','Minnesota','Ohio','Oregon','Colorado','North Carolina','Maryland','Michigan','Georgia','Florida','Wisconsin','New Jersey','Missouri','Indiana','Arizona','Tennessee','Connecticut','Utah','Kentucky','Iowa','Kansas','South Carolina','Louisiana','Maine','New Hampshire','Oklahoma','Alabama','Nebraska','Idaho','New Mexico','Nevada','Rhode Island','Arkansas','Alaska','Vermont','Montana','Mississippi','Delaware','West Virginia','North Dakota','Hawaii','Wyoming','South Dakota']\n",
        "df_state = df[df.state.isin(state)] "
      ],
      "execution_count": null,
      "outputs": []
    },
    {
      "cell_type": "markdown",
      "metadata": {
        "id": "ehTNRfX3IclQ"
      },
      "source": [
        "De même pour la catégorie industrie. Il y a en tout 994 différentes réponses. Afin de faire le trie efficassement on va prendre les corps de métiers les plus représentés. Ici 25 corps de professions représentent 92% des réponses (add .sum() à ligne suivante).\n",
        "\n",
        "Au delà on commence à avoir des doublons."
      ]
    },
    {
      "cell_type": "code",
      "metadata": {
        "colab": {
          "base_uri": "https://localhost:8080/"
        },
        "id": "Aoc5-zwlIZJq",
        "outputId": "ab72fe9e-1ec1-4903-8235-76022f6d5c97"
      },
      "source": [
        "((df.groupby('industry').size()/df['industry'].count())*100).sort_values(ascending = False).head(25)"
      ],
      "execution_count": null,
      "outputs": [
        {
          "output_type": "execute_result",
          "data": {
            "text/plain": [
              "industry\n",
              "Computing or Tech                       16.124227\n",
              "Nonprofits                               9.298966\n",
              "Education (Higher Education)             9.005552\n",
              "Health care                              7.005823\n",
              "Accounting Banking & Finance             6.391911\n",
              "Government and Public Administration     6.215862\n",
              "Engineering or Manufacturing             6.152666\n",
              "Law                                      4.166479\n",
              "Marketing Advertising & PR               3.922719\n",
              "Education (Primary/Secondary)            3.114702\n",
              "Business or Consulting                   2.974766\n",
              "Media & Digital                          2.712951\n",
              "Insurance                                2.008757\n",
              "Recruitment or HR                        1.715343\n",
              "Retail                                   1.710829\n",
              "Property or Construction                 1.354218\n",
              "Art & Design                             1.295536\n",
              "Utilities & Telecommunications           1.155600\n",
              "Transport or Logistics                   1.056290\n",
              "Sales                                    1.047262\n",
              "Social Work                              1.011150\n",
              "Hospitality & Events                     0.884756\n",
              "Entertainment                            0.866700\n",
              "Agriculture or Forestry                  0.469462\n",
              "Leisure Sport & Tourism                  0.325012\n",
              "dtype: float64"
            ]
          },
          "metadata": {},
          "execution_count": 29
        }
      ]
    },
    {
      "cell_type": "code",
      "metadata": {
        "id": "TJ-09pUEI6vD"
      },
      "source": [
        "industry = ['Computing or Tech','Nonprofits','Education (Higher Education)','Health care','Accounting Banking & Finance','Government and Public Administration','Engineering or Manufacturing','Law','Marketing Advertising & PR','Education (Primary/Secondary)','Business or Consulting','Media & Digital','Insurance','Recruitment or HR','Retail','Property or Construction','Art & Design','Utilities & Telecommunications','Transport or Logistics','Sales','Social Work','Hospitality & Events','Entertainment','Agriculture or Forestry','Leisure Sport & Tourism']\n",
        "df_industry = df[df.industry.isin(industry)] \n"
      ],
      "execution_count": null,
      "outputs": []
    },
    {
      "cell_type": "code",
      "metadata": {
        "colab": {
          "base_uri": "https://localhost:8080/",
          "height": 790
        },
        "id": "J7rZ3hJ4ngUr",
        "outputId": "8332f9b3-d1de-425b-e48b-d13debe9dc08"
      },
      "source": [
        "df_industry"
      ],
      "execution_count": null,
      "outputs": [
        {
          "output_type": "execute_result",
          "data": {
            "text/html": [
              "<div>\n",
              "<style scoped>\n",
              "    .dataframe tbody tr th:only-of-type {\n",
              "        vertical-align: middle;\n",
              "    }\n",
              "\n",
              "    .dataframe tbody tr th {\n",
              "        vertical-align: top;\n",
              "    }\n",
              "\n",
              "    .dataframe thead th {\n",
              "        text-align: right;\n",
              "    }\n",
              "</style>\n",
              "<table border=\"1\" class=\"dataframe\">\n",
              "  <thead>\n",
              "    <tr style=\"text-align: right;\">\n",
              "      <th></th>\n",
              "      <th>date</th>\n",
              "      <th>age</th>\n",
              "      <th>industry</th>\n",
              "      <th>job</th>\n",
              "      <th>wage</th>\n",
              "      <th>currency</th>\n",
              "      <th>country</th>\n",
              "      <th>state</th>\n",
              "      <th>city</th>\n",
              "      <th>experience</th>\n",
              "      <th>actual_experience</th>\n",
              "      <th>education</th>\n",
              "      <th>gender</th>\n",
              "      <th>race</th>\n",
              "    </tr>\n",
              "  </thead>\n",
              "  <tbody>\n",
              "    <tr>\n",
              "      <th>0</th>\n",
              "      <td>4/27/2021 11:03:19</td>\n",
              "      <td>49.5</td>\n",
              "      <td>Art &amp; Design</td>\n",
              "      <td>graphic designer</td>\n",
              "      <td>59000</td>\n",
              "      <td>USD</td>\n",
              "      <td>usa</td>\n",
              "      <td>California</td>\n",
              "      <td>Pomona</td>\n",
              "      <td>25.5</td>\n",
              "      <td>25.5</td>\n",
              "      <td>2.0</td>\n",
              "      <td>0.0</td>\n",
              "      <td>White</td>\n",
              "    </tr>\n",
              "    <tr>\n",
              "      <th>1</th>\n",
              "      <td>4/27/2021 11:06:00</td>\n",
              "      <td>49.5</td>\n",
              "      <td>Insurance</td>\n",
              "      <td>Senior Client Service Representative</td>\n",
              "      <td>73000</td>\n",
              "      <td>USD</td>\n",
              "      <td>us</td>\n",
              "      <td>Colorado</td>\n",
              "      <td>Denver</td>\n",
              "      <td>35.5</td>\n",
              "      <td>35.5</td>\n",
              "      <td>0.0</td>\n",
              "      <td>0.0</td>\n",
              "      <td>White</td>\n",
              "    </tr>\n",
              "    <tr>\n",
              "      <th>2</th>\n",
              "      <td>4/27/2021 11:08:01</td>\n",
              "      <td>39.5</td>\n",
              "      <td>Government and Public Administration</td>\n",
              "      <td>Senior Director of Public Policy</td>\n",
              "      <td>70000</td>\n",
              "      <td>USD</td>\n",
              "      <td>united states</td>\n",
              "      <td>Massachusetts</td>\n",
              "      <td>Boston</td>\n",
              "      <td>9.0</td>\n",
              "      <td>9.0</td>\n",
              "      <td>4.0</td>\n",
              "      <td>0.0</td>\n",
              "      <td>White</td>\n",
              "    </tr>\n",
              "    <tr>\n",
              "      <th>3</th>\n",
              "      <td>4/27/2021 11:08:06</td>\n",
              "      <td>21.0</td>\n",
              "      <td>Law</td>\n",
              "      <td>Attorney</td>\n",
              "      <td>65000</td>\n",
              "      <td>USD</td>\n",
              "      <td>united states</td>\n",
              "      <td>Minnesota</td>\n",
              "      <td>Minneapolis</td>\n",
              "      <td>3.0</td>\n",
              "      <td>3.0</td>\n",
              "      <td>4.0</td>\n",
              "      <td>0.0</td>\n",
              "      <td>White</td>\n",
              "    </tr>\n",
              "    <tr>\n",
              "      <th>4</th>\n",
              "      <td>4/27/2021 11:09:49</td>\n",
              "      <td>39.5</td>\n",
              "      <td>Law</td>\n",
              "      <td>Counsel</td>\n",
              "      <td>120000</td>\n",
              "      <td>USD</td>\n",
              "      <td>usa</td>\n",
              "      <td>New York</td>\n",
              "      <td>I work remotely</td>\n",
              "      <td>15.5</td>\n",
              "      <td>9.0</td>\n",
              "      <td>4.0</td>\n",
              "      <td>0.0</td>\n",
              "      <td>Hispanic Latino or Spanish origin</td>\n",
              "    </tr>\n",
              "    <tr>\n",
              "      <th>...</th>\n",
              "      <td>...</td>\n",
              "      <td>...</td>\n",
              "      <td>...</td>\n",
              "      <td>...</td>\n",
              "      <td>...</td>\n",
              "      <td>...</td>\n",
              "      <td>...</td>\n",
              "      <td>...</td>\n",
              "      <td>...</td>\n",
              "      <td>...</td>\n",
              "      <td>...</td>\n",
              "      <td>...</td>\n",
              "      <td>...</td>\n",
              "      <td>...</td>\n",
              "    </tr>\n",
              "    <tr>\n",
              "      <th>22356</th>\n",
              "      <td>11/15/2021 20:49:57</td>\n",
              "      <td>29.5</td>\n",
              "      <td>Health care</td>\n",
              "      <td>Senior research analyst</td>\n",
              "      <td>70100</td>\n",
              "      <td>USD</td>\n",
              "      <td>United States of America</td>\n",
              "      <td>Minnesota</td>\n",
              "      <td>Minnetonka</td>\n",
              "      <td>9.0</td>\n",
              "      <td>9.0</td>\n",
              "      <td>2.0</td>\n",
              "      <td>0.0</td>\n",
              "      <td>White</td>\n",
              "    </tr>\n",
              "    <tr>\n",
              "      <th>22357</th>\n",
              "      <td>11/15/2021 22:46:22</td>\n",
              "      <td>39.5</td>\n",
              "      <td>Art &amp; Design</td>\n",
              "      <td>Principal UX Designer</td>\n",
              "      <td>125000</td>\n",
              "      <td>USD</td>\n",
              "      <td>United States</td>\n",
              "      <td>Colorado</td>\n",
              "      <td>Denver</td>\n",
              "      <td>15.5</td>\n",
              "      <td>9.0</td>\n",
              "      <td>2.0</td>\n",
              "      <td>0.0</td>\n",
              "      <td>White</td>\n",
              "    </tr>\n",
              "    <tr>\n",
              "      <th>22358</th>\n",
              "      <td>11/16/2021 22:07:47</td>\n",
              "      <td>39.5</td>\n",
              "      <td>Art &amp; Design</td>\n",
              "      <td>Assistant designer</td>\n",
              "      <td>45000</td>\n",
              "      <td>USD</td>\n",
              "      <td>United States</td>\n",
              "      <td>New York</td>\n",
              "      <td>New York</td>\n",
              "      <td>15.5</td>\n",
              "      <td>6.0</td>\n",
              "      <td>2.0</td>\n",
              "      <td>0.0</td>\n",
              "      <td>Hispanic Latino or Spanish origin</td>\n",
              "    </tr>\n",
              "    <tr>\n",
              "      <th>22359</th>\n",
              "      <td>11/17/2021 8:00:38</td>\n",
              "      <td>29.5</td>\n",
              "      <td>Engineering or Manufacturing</td>\n",
              "      <td>semiconductor manufacturing engineer</td>\n",
              "      <td>77000</td>\n",
              "      <td>USD</td>\n",
              "      <td>US</td>\n",
              "      <td>Maine</td>\n",
              "      <td>south portland</td>\n",
              "      <td>6.0</td>\n",
              "      <td>6.0</td>\n",
              "      <td>2.0</td>\n",
              "      <td>0.0</td>\n",
              "      <td>Asian or Asian American</td>\n",
              "    </tr>\n",
              "    <tr>\n",
              "      <th>22360</th>\n",
              "      <td>11/17/2021 11:02:27</td>\n",
              "      <td>39.5</td>\n",
              "      <td>Education (Higher Education)</td>\n",
              "      <td>Director of Corporate and Foundation Relations</td>\n",
              "      <td>100800</td>\n",
              "      <td>USD</td>\n",
              "      <td>United States</td>\n",
              "      <td>Pennsylvania</td>\n",
              "      <td>Philadelphia</td>\n",
              "      <td>15.5</td>\n",
              "      <td>6.0</td>\n",
              "      <td>5.0</td>\n",
              "      <td>0.0</td>\n",
              "      <td>White</td>\n",
              "    </tr>\n",
              "  </tbody>\n",
              "</table>\n",
              "<p>20378 rows × 14 columns</p>\n",
              "</div>"
            ],
            "text/plain": [
              "                      date   age  ... gender                               race\n",
              "0       4/27/2021 11:03:19  49.5  ...    0.0                              White\n",
              "1       4/27/2021 11:06:00  49.5  ...    0.0                              White\n",
              "2       4/27/2021 11:08:01  39.5  ...    0.0                              White\n",
              "3       4/27/2021 11:08:06  21.0  ...    0.0                              White\n",
              "4       4/27/2021 11:09:49  39.5  ...    0.0  Hispanic Latino or Spanish origin\n",
              "...                    ...   ...  ...    ...                                ...\n",
              "22356  11/15/2021 20:49:57  29.5  ...    0.0                              White\n",
              "22357  11/15/2021 22:46:22  39.5  ...    0.0                              White\n",
              "22358  11/16/2021 22:07:47  39.5  ...    0.0  Hispanic Latino or Spanish origin\n",
              "22359   11/17/2021 8:00:38  29.5  ...    0.0            Asian or Asian American\n",
              "22360  11/17/2021 11:02:27  39.5  ...    0.0                              White\n",
              "\n",
              "[20378 rows x 14 columns]"
            ]
          },
          "metadata": {},
          "execution_count": 31
        }
      ]
    },
    {
      "cell_type": "markdown",
      "metadata": {
        "id": "C7pzJ46bNOfN"
      },
      "source": [
        "# Classification"
      ]
    },
    {
      "cell_type": "code",
      "metadata": {
        "colab": {
          "base_uri": "https://localhost:8080/",
          "height": 370
        },
        "id": "cN6mLqMQssOF",
        "outputId": "653333c3-1b79-4344-86aa-5c0307eb9f32"
      },
      "source": [
        "import seaborn as sns\n",
        "\n",
        "sns.heatmap(df.corr(),annot=True)\n",
        "\n",
        "#il manque race : mais biaisé, manque de représentation \n",
        "'''\n",
        "df['race']=df_race['race']\n",
        "df_r = df['race'].astype(float)\n",
        "df['race']=df_r\n",
        "'''"
      ],
      "execution_count": null,
      "outputs": [
        {
          "output_type": "execute_result",
          "data": {
            "application/vnd.google.colaboratory.intrinsic+json": {
              "type": "string"
            },
            "text/plain": [
              "\"\\ndf['race']=df_race['race']\\ndf_r = df['race'].astype(float)\\ndf['race']=df_r\\n\""
            ]
          },
          "metadata": {},
          "execution_count": 46
        },
        {
          "output_type": "display_data",
          "data": {
            "image/png": "[encoded data removed]",
            "text/plain": [
              "<Figure size 432x288 with 2 Axes>"
            ]
          },
          "metadata": {
            "needs_background": "light"
          }
        }
      ]
    },
    {
      "cell_type": "markdown",
      "metadata": {
        "id": "rky6sC-jNgeF"
      },
      "source": [
        "The correlation matrix allow us to have some deduction. Indeed we can see the fact that wage is indeed correlated with all features, and more especialy with the actual_experience. Moreover we can add the fact that all the other features have the same influence on wage. Thus gender have the same incidence than the level of education or the global experience. "
      ]
    },
    {
      "cell_type": "markdown",
      "metadata": {
        "id": "YMazzBikz8NY"
      },
      "source": [
        "\n",
        "# Clustering"
      ]
    },
    {
      "cell_type": "code",
      "metadata": {
        "id": "sOGHjspl0D2L"
      },
      "source": [
        "from sklearn.cluster import KMeans"
      ],
      "execution_count": null,
      "outputs": []
    },
    {
      "cell_type": "markdown",
      "metadata": {
        "id": "jZXUuuOvz-QO"
      },
      "source": [
        "We can try to make a clustering. We know that there are 8 differents categories of actual_experience and experience.\n",
        "\n",
        "\n",
        "\n",
        "\n",
        "\n"
      ]
    },
    {
      "cell_type": "code",
      "metadata": {
        "colab": {
          "base_uri": "https://localhost:8080/",
          "height": 282
        },
        "id": "ylp_vvlPZ8Bg",
        "outputId": "f2927c8b-727d-4bcf-bb5f-1a526567626e"
      },
      "source": [
        "plt.scatter(df.wage,df.actual_experience)"
      ],
      "execution_count": null,
      "outputs": [
        {
          "output_type": "execute_result",
          "data": {
            "text/plain": [
              "<matplotlib.collections.PathCollection at 0x7fb261003cd0>"
            ]
          },
          "metadata": {},
          "execution_count": 34
        },
        {
          "output_type": "display_data",
          "data": {
            "image/png": "[encoded data removed]",
            "text/plain": [
              "<Figure size 432x288 with 1 Axes>"
            ]
          },
          "metadata": {
            "needs_background": "light"
          }
        }
      ]
    },
    {
      "cell_type": "code",
      "metadata": {
        "colab": {
          "base_uri": "https://localhost:8080/",
          "height": 282
        },
        "id": "PMvjfvVRaXGH",
        "outputId": "22923a05-14ac-4ae8-b78b-afe66162ed0a"
      },
      "source": [
        "plt.scatter(df.wage,df.experience)"
      ],
      "execution_count": null,
      "outputs": [
        {
          "output_type": "execute_result",
          "data": {
            "text/plain": [
              "<matplotlib.collections.PathCollection at 0x7fb260f6ba90>"
            ]
          },
          "metadata": {},
          "execution_count": 35
        },
        {
          "output_type": "display_data",
          "data": {
            "image/png": "[encoded data removed]",
            "text/plain": [
              "<Figure size 432x288 with 1 Axes>"
            ]
          },
          "metadata": {
            "needs_background": "light"
          }
        }
      ]
    },
    {
      "cell_type": "code",
      "metadata": {
        "id": "xMVVedbl_yfb"
      },
      "source": [
        "df1=df"
      ],
      "execution_count": null,
      "outputs": []
    },
    {
      "cell_type": "code",
      "metadata": {
        "colab": {
          "base_uri": "https://localhost:8080/"
        },
        "id": "g6qmKGhQ0IZ_",
        "outputId": "a18cf258-2e3b-4142-f9ef-31972ee69205"
      },
      "source": [
        "data = df1.drop(['race','city','state','country','currency','job','industry','date','wage','actual_experience','experience'], axis=1)\n",
        "print(data)\n",
        "data =  data.to_numpy()\n",
        "kmeans = KMeans(init='k-means++', n_clusters=8, max_iter=10000, n_init=1000).fit(data)"
      ],
      "execution_count": null,
      "outputs": [
        {
          "output_type": "stream",
          "name": "stdout",
          "text": [
            "        age  education  gender\n",
            "0      49.5        2.0     0.0\n",
            "1      49.5        0.0     0.0\n",
            "2      39.5        4.0     0.0\n",
            "3      21.0        4.0     0.0\n",
            "4      39.5        4.0     0.0\n",
            "...     ...        ...     ...\n",
            "22356  29.5        2.0     0.0\n",
            "22357  39.5        2.0     0.0\n",
            "22358  39.5        2.0     0.0\n",
            "22359  29.5        2.0     0.0\n",
            "22360  39.5        5.0     0.0\n",
            "\n",
            "[22203 rows x 3 columns]\n"
          ]
        }
      ]
    },
    {
      "cell_type": "code",
      "metadata": {
        "colab": {
          "base_uri": "https://localhost:8080/",
          "height": 301
        },
        "id": "1YOxpdxm0KTD",
        "outputId": "c48822b5-877c-492f-c431-94cb4d8b820d"
      },
      "source": [
        "print(kmeans.labels_)\n",
        "\n",
        "res = kmeans.cluster_centers_\n",
        "\n",
        "new_res = res.T\n",
        "dataframe = pd.DataFrame(new_res)\n",
        "dataframe.plot()"
      ],
      "execution_count": null,
      "outputs": [
        {
          "output_type": "stream",
          "name": "stdout",
          "text": [
            "[2 2 1 ... 6 5 1]\n"
          ]
        },
        {
          "output_type": "execute_result",
          "data": {
            "text/plain": [
              "<matplotlib.axes._subplots.AxesSubplot at 0x7f16738cd750>"
            ]
          },
          "metadata": {},
          "execution_count": 40
        },
        {
          "output_type": "display_data",
          "data": {
            "image/png": "[encoded data removed]",
            "text/plain": [
              "<Figure size 432x288 with 1 Axes>"
            ]
          },
          "metadata": {
            "needs_background": "light"
          }
        }
      ]
    },
    {
      "cell_type": "code",
      "metadata": {
        "colab": {
          "base_uri": "https://localhost:8080/"
        },
        "id": "LcvbAX7t0P1E",
        "outputId": "a7895f4d-0919-4b35-cdb2-58b79af9b946"
      },
      "source": [
        "clusterwise_sse = 0 \n",
        "for point, label in zip(data, kmeans.labels_):\n",
        "    clusterwise_sse += np.square(point - res[label]).sum()\n",
        "\n",
        "print(clusterwise_sse)"
      ],
      "execution_count": null,
      "outputs": [
        {
          "output_type": "stream",
          "name": "stdout",
          "text": [
            "16714.56671765322\n"
          ]
        }
      ]
    },
    {
      "cell_type": "code",
      "metadata": {
        "id": "sck-gQyM0RzZ"
      },
      "source": [
        "df1.insert(1,'center', kmeans.labels_)"
      ],
      "execution_count": null,
      "outputs": []
    },
    {
      "cell_type": "code",
      "metadata": {
        "colab": {
          "base_uri": "https://localhost:8080/"
        },
        "id": "giZt6m9376J4",
        "outputId": "60412da6-0586-40b4-a595-474a3543e6d7"
      },
      "source": [
        "df1_center = df1.groupby(['center','actual_experience'])\n",
        "df1_center.size()"
      ],
      "execution_count": null,
      "outputs": [
        {
          "output_type": "execute_result",
          "data": {
            "text/plain": [
              "center  actual_experience\n",
              "0       0.5                   222\n",
              "        3.0                  1238\n",
              "        6.0                  1403\n",
              "        9.0                   809\n",
              "        15.5                  177\n",
              "        25.5                    2\n",
              "        35.5                    2\n",
              "1       0.5                    55\n",
              "        3.0                   364\n",
              "        6.0                   697\n",
              "        9.0                   959\n",
              "        15.5                 1757\n",
              "        25.5                  106\n",
              "        45.5                    2\n",
              "2       0.5                    27\n",
              "        3.0                   151\n",
              "        6.0                   226\n",
              "        9.0                   273\n",
              "        15.5                  913\n",
              "        25.5                  924\n",
              "        35.5                   60\n",
              "3       0.5                   351\n",
              "        3.0                   503\n",
              "        6.0                    37\n",
              "        9.0                     1\n",
              "        15.5                    1\n",
              "        25.5                    1\n",
              "        35.5                    1\n",
              "        45.5                    2\n",
              "4       0.5                     6\n",
              "        3.0                    35\n",
              "        6.0                    51\n",
              "        9.0                    43\n",
              "        15.5                  188\n",
              "        25.5                  264\n",
              "        35.5                  225\n",
              "        45.5                   11\n",
              "5       0.5                   318\n",
              "        3.0                  2051\n",
              "        6.0                  2138\n",
              "        9.0                  1140\n",
              "        15.5                  357\n",
              "        35.5                    2\n",
              "        45.5                    1\n",
              "6       0.5                    89\n",
              "        3.0                   408\n",
              "        6.0                   669\n",
              "        9.0                   782\n",
              "        15.5                 1878\n",
              "        25.5                  202\n",
              "        35.5                    1\n",
              "        45.5                    2\n",
              "7       3.0                     1\n",
              "        6.0                     5\n",
              "        9.0                     7\n",
              "        15.5                   12\n",
              "        25.5                   17\n",
              "        35.5                   26\n",
              "        45.5                   13\n",
              "dtype: int64"
            ]
          },
          "metadata": {},
          "execution_count": 43
        }
      ]
    }
  ]
}